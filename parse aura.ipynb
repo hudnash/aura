{
 "cells": [
  {
   "cell_type": "code",
   "execution_count": 1,
   "id": "56b8d3b9",
   "metadata": {},
   "outputs": [],
   "source": [
    "import PyPDF2 as pdf2\n",
    "from googletrans import Translator\n",
    "import random\n",
    "import genanki as gank"
   ]
  },
  {
   "cell_type": "code",
   "execution_count": 2,
   "id": "506a7d2e-70a1-4944-9839-08bf88bed722",
   "metadata": {},
   "outputs": [],
   "source": [
    "def new_anki_id():\n",
    "    return random.randrange(1 << 30, 1 << 31)"
   ]
  },
  {
   "cell_type": "code",
   "execution_count": 3,
   "id": "972bd4cb-12db-48a3-907c-e5e2ab268ea7",
   "metadata": {},
   "outputs": [],
   "source": [
    "spn = pdf2.PdfReader('spanish/aura by fuentes/aura_spanish.pdf')\n",
    "eng = pdf2.PdfReader('spanish/aura by fuentes/aura_english.pdf')\n",
    "spn = [page.extract_text().replace('\\n','') for page in spn.pages[3:]]"
   ]
  },
  {
   "cell_type": "code",
   "execution_count": 4,
   "id": "439e066c-52b9-444d-9d6e-a9975be22e00",
   "metadata": {},
   "outputs": [],
   "source": [
    "eng = [page.extract_text().replace('\\n',' ') for page in eng.pages[1:]]"
   ]
  },
  {
   "cell_type": "code",
   "execution_count": 5,
   "id": "5cd0169e-5c57-43f8-a303-e7543801e56c",
   "metadata": {},
   "outputs": [
    {
     "data": {
      "text/plain": [
       "'desire and the imagination . . . The gods are like men: they are born and they die on a woman\\'s breast . . .   JULES MICHELET [1] I Y ou’re  reading the advertisement: an offer like this isn\\'t made every day. You read it and reread it. It seems to be addressed to you and nobody else. You don\\'t even notice when the ash from your cigarette falls into the cup of tea you ordered in this cheap, dirty cafe. You read it again. \"Wanted, young his torian, conscientious, neat. Perfect knowl edge colloquial French.\" Youth . . . knowledge of French, preferably after living in France for a while . . . \"Four thousand pesos a month, all meals, com fortable bedroom-study.\" All that\\'s miss ing is your name. The advertisement should have two more words, in bigger, blacker type: Felipe Montero. Wanted, Felipe Montero, formerly on scholarship at the Sorbonne, [2]  historian full of useless facts, accustomed to digging'"
      ]
     },
     "execution_count": 5,
     "metadata": {},
     "output_type": "execute_result"
    }
   ],
   "source": [
    "eng[0]"
   ]
  },
  {
   "cell_type": "code",
   "execution_count": 6,
   "id": "687fa642-df15-4d79-9ddd-7d88b0b2ab98",
   "metadata": {},
   "outputs": [
    {
     "data": {
      "text/plain": [
       "'LEES ESE ANUNCIO: UNA OFERTA DE ESA NATURALEZA no se hace todos los días. Lees y relees el aviso. Parece dirigido a ti, a nadie mas. Distraído, dejas que la ceniza del cigarro caiga dentro de la taza de te que has estado bebiendo en este cafetín sucio y barato. tu releerás . Se solicita historiador joven. Ordenado. Escrupuloso. Conocedor de la lengua francesa. Conocimiento perfecto, coloquial. Capaz de desempeñar labores de secretario . Juventud, conocimiento del francés, preferible si ha vivido en Francia algún ti empo. Tres mil pesos mensuales, comida y recamara cómoda, asoleada, apropiada estudi o. Solo falta tu nombre. Solo falta que las letras mas negras y llamativas del aviso informen: Felipe Montero. Se solicita Felipe Montero, antiguo becario en la Sorbona, historiador cargado de datos inútiles, acostumbrado a exhumar papeles amarillentos, profesor auxiliar en escuelas particulares, novecientos pes os mensuales. Pero si leyeras eso, sospecharías, lo tomarías a broma. Donceles 815. Acuda en persona. No hay teléfono. Recoges tu portafolio y dejas la propina.  Piensas que otro historiador joven, en condiciones semejantes a las tuyas, ya ha leído ese mismo aviso, tornado la delantera, ocupado el puesto. Tratas de ol vidar mientras caminas a la esquina. Esperas el autobús, enciendes un cigarrillo, repites en silencio las fechas que debes memorizar para que esos niños am odorrados te respeten. Tienes que prepararte. El autobús se acerca y tu estas observando las puntas de tus zapatos negros. Tienes que prepararte. Metes la mano en el bolsillo, juegas con las monedas de cobre, por fin escoges treinta centavos, los aprietas con el puno y alargas el brazo para tomar firmemente el barrote de fierro del camión que nunca '"
      ]
     },
     "execution_count": 6,
     "metadata": {},
     "output_type": "execute_result"
    }
   ],
   "source": [
    "spn[0]"
   ]
  },
  {
   "cell_type": "code",
   "execution_count": 7,
   "id": "3fda6783-c84f-44c8-aea0-4c2695c3928d",
   "metadata": {},
   "outputs": [],
   "source": [
    "t = Translator()"
   ]
  },
  {
   "cell_type": "code",
   "execution_count": 15,
   "id": "b0ee8cee-43a8-4ffe-91be-4232ae5808dc",
   "metadata": {},
   "outputs": [
    {
     "data": {
      "text/plain": [
       "'You read that announcement: an offer of that nature is not made every day.Read and reread the notice.It seems aimed at you, no one else.Distracted, you let the cigar ash fall into the cup of te that you have been drinking in this dirty and cheap cafetin.You will reread.Young historian is requested.Tidy.Scrupulous.Knowledgeable of the French language.Perfect knowledge, colloquial.Able to perform secretary work.Youth, Knowledge of French, preferable if you have lived in France some ti empo.Three thousand pesos monthly, food and comfortable, sunly, appropriate study.Only your name is missing.It only remains that the tougher and striking letters of the report report: Felipe Montero.Felipe Montero, former fellow in La Sorbonne, historian loaded with useless data, accustomed to exhuming yellowish roles, auxiliary professor in private schools, nine hundred pes os monthly, is requested.But if you read that, you would suspect, you would take it to a joke.Dances 815. Go in person.There is no phone.You collect your portfolio and leave the tip.You think that another young historian, in similar conditions, has already read that same warning, tornado the front, occupied the position.You try to vidar while walking the corner.You wait for the bus, you turn on a cigarette, repeat in silence the dates that you must memorize so that those amounted children respect you.You have to prepare.The bus approaches and you are watching the tips of your black shoes.You have to prepare.You put your hand in your pocket, you play with copper coins, you finally choose thirty cents, you squeeze them with the puno and lengthen your arm to firmly take the truck iron bar of the truck that never never'"
      ]
     },
     "execution_count": 15,
     "metadata": {},
     "output_type": "execute_result"
    }
   ],
   "source": [
    "t.translate(spn[0],dest='en',src='es').text"
   ]
  },
  {
   "cell_type": "code",
   "execution_count": 16,
   "id": "2b5b05e2-7db9-46c8-9a7a-eaf22994ae89",
   "metadata": {},
   "outputs": [
    {
     "data": {
      "text/plain": [
       "'deseo y la imaginación...Los dioses son como los hombres: nacen y mueren en el pecho de una mujer...Jules Michelet [1] Estoy leyendo el anuncio: una oferta como esta no se hace todos los días.Lo lees y lo relees.Parece estar dirigido a usted y a nadie más.Ni siquiera notas cuando la ceniza de tu cigarrillo cae en la taza de té que pediste en este café barato y sucio.Lo lees de nuevo.\"Quería, joven su toriano, concienzudo, ordenado. Perfecto Knowl Edge Colroquial French\".Juventud ...Conocimiento del francés, preferiblemente después de vivir en Francia por un tiempo...\"Cuatro mil pesos al mes, todas las comidas, comestibles de dormitorio fortables\".Todo lo que es extraño es tu nombre.El anuncio debe tener dos palabras más, en tipo más grande y negro: Felipe Montero.Se quería, Felipe Montero, anteriormente en beca en la Sorbona, [2] historiador lleno de hechos inútiles, acostumbrado a cavar'"
      ]
     },
     "execution_count": 16,
     "metadata": {},
     "output_type": "execute_result"
    }
   ],
   "source": [
    "t.translate(eng[0],src='en',dest='es').text"
   ]
  },
  {
   "cell_type": "code",
   "execution_count": 8,
   "id": "3b52159c-c438-4805-974a-868cb5c26feb",
   "metadata": {},
   "outputs": [
    {
     "data": {
      "text/plain": [
       "'desire and the imagination . . . The gods are like men: they are born and they die on a woman\\'s breast . . .   JULES MICHELET [1] I Y ou’re  reading the advertisement: an offer like this isn\\'t made every day. You read it and reread it. It seems to be addressed to you and nobody else. You don\\'t even notice when the ash from your cigarette falls into the cup of tea you ordered in this cheap, dirty cafe. You read it again. \"Wanted, young his torian, conscientious, neat. Perfect knowl edge colloquial French.\" Youth . . . knowledge of French, preferably after living in France for a while . . . \"Four thousand pesos a month, all meals, com fortable bedroom-study.\" All that\\'s miss ing is your name. The advertisement should have two more words, in bigger, blacker type: Felipe Montero. Wanted, Felipe Montero, formerly on scholarship at the Sorbonne, [2]  historian full of useless facts, accustomed to digging'"
      ]
     },
     "execution_count": 8,
     "metadata": {},
     "output_type": "execute_result"
    }
   ],
   "source": [
    "eng[0]"
   ]
  },
  {
   "cell_type": "code",
   "execution_count": 17,
   "id": "1dc69711-7794-45c4-8a1d-0c3a903a5734",
   "metadata": {},
   "outputs": [],
   "source": [
    "sentence = {'n': 0, 'og_spn': spn[0], 'og_eng': eng[0], 'spn_tr': t.translate(eng[0], dest = 'es').text, 'eng_tr': t.translate(spn[0], src = 'es').text}"
   ]
  },
  {
   "cell_type": "code",
   "execution_count": 18,
   "id": "d898068d-8e41-4902-8cba-2111efb2ded4",
   "metadata": {},
   "outputs": [
    {
     "data": {
      "text/plain": [
       "{'n': 0,\n",
       " 'og_spn': 'LEES ESE ANUNCIO: UNA OFERTA DE ESA NATURALEZA no se hace todos los días. Lees y relees el aviso. Parece dirigido a ti, a nadie mas. Distraído, dejas que la ceniza del cigarro caiga dentro de la taza de te que has estado bebiendo en este cafetín sucio y barato. tu releerás . Se solicita historiador joven. Ordenado. Escrupuloso. Conocedor de la lengua francesa. Conocimiento perfecto, coloquial. Capaz de desempeñar labores de secretario . Juventud, conocimiento del francés, preferible si ha vivido en Francia algún ti empo. Tres mil pesos mensuales, comida y recamara cómoda, asoleada, apropiada estudi o. Solo falta tu nombre. Solo falta que las letras mas negras y llamativas del aviso informen: Felipe Montero. Se solicita Felipe Montero, antiguo becario en la Sorbona, historiador cargado de datos inútiles, acostumbrado a exhumar papeles amarillentos, profesor auxiliar en escuelas particulares, novecientos pes os mensuales. Pero si leyeras eso, sospecharías, lo tomarías a broma. Donceles 815. Acuda en persona. No hay teléfono. Recoges tu portafolio y dejas la propina.  Piensas que otro historiador joven, en condiciones semejantes a las tuyas, ya ha leído ese mismo aviso, tornado la delantera, ocupado el puesto. Tratas de ol vidar mientras caminas a la esquina. Esperas el autobús, enciendes un cigarrillo, repites en silencio las fechas que debes memorizar para que esos niños am odorrados te respeten. Tienes que prepararte. El autobús se acerca y tu estas observando las puntas de tus zapatos negros. Tienes que prepararte. Metes la mano en el bolsillo, juegas con las monedas de cobre, por fin escoges treinta centavos, los aprietas con el puno y alargas el brazo para tomar firmemente el barrote de fierro del camión que nunca ',\n",
       " 'og_eng': 'desire and the imagination . . . The gods are like men: they are born and they die on a woman\\'s breast . . .   JULES MICHELET [1] I Y ou’re  reading the advertisement: an offer like this isn\\'t made every day. You read it and reread it. It seems to be addressed to you and nobody else. You don\\'t even notice when the ash from your cigarette falls into the cup of tea you ordered in this cheap, dirty cafe. You read it again. \"Wanted, young his torian, conscientious, neat. Perfect knowl edge colloquial French.\" Youth . . . knowledge of French, preferably after living in France for a while . . . \"Four thousand pesos a month, all meals, com fortable bedroom-study.\" All that\\'s miss ing is your name. The advertisement should have two more words, in bigger, blacker type: Felipe Montero. Wanted, Felipe Montero, formerly on scholarship at the Sorbonne, [2]  historian full of useless facts, accustomed to digging',\n",
       " 'spn_tr': 'deseo y la imaginación...Los dioses son como los hombres: nacen y mueren en el pecho de una mujer...Jules Michelet [1] Estoy leyendo el anuncio: una oferta como esta no se hace todos los días.Lo lees y lo relees.Parece estar dirigido a usted y a nadie más.Ni siquiera notas cuando la ceniza de tu cigarrillo cae en la taza de té que pediste en este café barato y sucio.Lo lees de nuevo.\"Quería, joven su toriano, concienzudo, ordenado. Perfecto Knowl Edge Colroquial French\".Juventud ...Conocimiento del francés, preferiblemente después de vivir en Francia por un tiempo...\"Cuatro mil pesos al mes, todas las comidas, comestibles de dormitorio fortables\".Todo lo que es extraño es tu nombre.El anuncio debe tener dos palabras más, en tipo más grande y negro: Felipe Montero.Se quería, Felipe Montero, anteriormente en beca en la Sorbona, [2] historiador lleno de hechos inútiles, acostumbrado a cavar',\n",
       " 'eng_tr': 'You read that announcement: an offer of that nature is not made every day.Read and reread the notice.It seems aimed at you, no one else.Distracted, you let the cigar ash fall into the cup of te that you have been drinking in this dirty and cheap cafetin.You will reread.Young historian is requested.Tidy.Scrupulous.Knowledgeable of the French language.Perfect knowledge, colloquial.Able to perform secretary work.Youth, Knowledge of French, preferable if you have lived in France some ti empo.Three thousand pesos monthly, food and comfortable, sunly, appropriate study.Only your name is missing.It only remains that the tougher and striking letters of the report report: Felipe Montero.Felipe Montero, former fellow in La Sorbonne, historian loaded with useless data, accustomed to exhuming yellowish roles, auxiliary professor in private schools, nine hundred pes os monthly, is requested.But if you read that, you would suspect, you would take it to a joke.Dances 815. Go in person.There is no phone.You collect your portfolio and leave the tip.You think that another young historian, in similar conditions, has already read that same warning, tornado the front, occupied the position.You try to vidar while walking the corner.You wait for the bus, you turn on a cigarette, repeat in silence the dates that you must memorize so that those amounted children respect you.You have to prepare.The bus approaches and you are watching the tips of your black shoes.You have to prepare.You put your hand in your pocket, you play with copper coins, you finally choose thirty cents, you squeeze them with the puno and lengthen your arm to firmly take the truck iron bar of the truck that never never'}"
      ]
     },
     "execution_count": 18,
     "metadata": {},
     "output_type": "execute_result"
    }
   ],
   "source": [
    "sentence"
   ]
  },
  {
   "cell_type": "code",
   "execution_count": null,
   "id": "8fd8092f-fa12-4969-ab30-dd37188b5a43",
   "metadata": {},
   "outputs": [],
   "source": [
    "\"\"\"\n",
    "BOOK\n",
    "  |\n",
    "   \\\n",
    "    Translation\n",
    "     \\\n",
    "      {Word}xMANY\n",
    "       \\\n",
    "        Synonyms\n",
    "\n",
    "Obj: Get the fluent/abridged english translation of the spanish text by matching \n",
    "     translated english sentences with synonymous phrase matching and storing the synonymous phrases.\n",
    "     \n",
    "     The synonymous phrases may then be used to score the user's translation of the text.\n",
    "     \n",
    "or... since Google Translate package doesn't come with synonyms for translation but \n",
    "         does its best to generate the most reasonable translation...\n",
    "     \n",
    "     1. Parse pdf's\n",
    "        --> 1.2. Detect & remove non-translating pages from the PDFs\n",
    "     2. Translate spn pdf -> eng txt and spn txt\n",
    "     3. Translate eng pdf -> spn txt and eng txt\n",
    "        - Now, we have two different versions in each language\n",
    "        NOPE. X --> 3.2. Match translating phrase-pairs. X NOPE.\n",
    "    USAGE:\n",
    "    A- READING THE TEXT\n",
    "     5. Ask the user to input a translation for some provided spanish selection of text\n",
    "     6. Compare the user's translation to the actual text versions on easy, medium, or hard difficulty\n",
    "     7. Provide the user with a spanish-to-english dictionary should he need it\n",
    "     8. Make an Anki flashcard and a native flashcard with the user-requested vocabulary\n",
    "    B- MEMORIZING THE CARDS\n",
    "     9. Upon user command, fetch the flashcards from native format and/or Anki folder\n",
    "     10. Sort the flashcards in order from hardest to easiest, with a little bit of randomization\n",
    "         - Actually, it will be easiest to allow Anki to handle this part. At minimum, a side-by-side \n",
    "           command line reader for spanish novels to spit out Anki decks would be massively helpful.\n",
    "         - ESPECIALLY GIVEN THE FACT THAT ANKI HAS A MOBILE APP.\n",
    "\"\"\""
   ]
  },
  {
   "cell_type": "code",
   "execution_count": 21,
   "id": "a6d6c0d1-c2fd-420b-a244-cd61e7cfdd12",
   "metadata": {},
   "outputs": [
    {
     "data": {
      "text/plain": [
       "'Cafetín'"
      ]
     },
     "execution_count": 21,
     "metadata": {},
     "output_type": "execute_result"
    }
   ],
   "source": [
    "t.translate('cafetín',src='es',dest='en').text"
   ]
  },
  {
   "cell_type": "code",
   "execution_count": null,
   "id": "6e55070c-3fed-4512-854b-a2d242883bee",
   "metadata": {},
   "outputs": [],
   "source": [
    "\"\"\"\n",
    "- genanki: https://github.com/kerrickstaley/genanki\n",
    "- googletrans: https://github.com/ssut/py-googletrans\n",
    "\"\"\""
   ]
  }
 ],
 "metadata": {
  "kernelspec": {
   "display_name": "Python 3 (ipykernel)",
   "language": "python",
   "name": "python3"
  },
  "language_info": {
   "codemirror_mode": {
    "name": "ipython",
    "version": 3
   },
   "file_extension": ".py",
   "mimetype": "text/x-python",
   "name": "python",
   "nbconvert_exporter": "python",
   "pygments_lexer": "ipython3",
   "version": "3.9.7"
  }
 },
 "nbformat": 4,
 "nbformat_minor": 5
}
